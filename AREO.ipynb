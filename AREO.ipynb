{
 "cells": [
  {
   "cell_type": "code",
   "execution_count": 160,
   "metadata": {},
   "outputs": [],
   "source": [
    "import pandas as pd\n",
    "import os\n",
    "import matplotlib.pyplot as plt\n",
    "import numpy as np\n"
   ]
  },
  {
   "cell_type": "code",
   "execution_count": 161,
   "metadata": {},
   "outputs": [],
   "source": [
    "pd.set_option('display.max_rows', 500)"
   ]
  },
  {
   "cell_type": "code",
   "execution_count": 162,
   "metadata": {},
   "outputs": [],
   "source": [
    "def read_files_in_directory(directory):\n",
    "    file_paths = []\n",
    "    for root, _, files in os.walk(directory):\n",
    "\n",
    "        for file in files:\n",
    "            if file[-3:] == \"tsv\":\n",
    "                file_path = os.path.join(root, file)\n",
    "                file_paths.append(file_path)\n",
    "    return file_paths\n"
   ]
  },
  {
   "cell_type": "code",
   "execution_count": 163,
   "metadata": {},
   "outputs": [
    {
     "data": {
      "text/plain": [
       "7906"
      ]
     },
     "execution_count": 163,
     "metadata": {},
     "output_type": "execute_result"
    }
   ],
   "source": [
    "directory_path = \"data/Protein_Expression\"\n",
    "files = read_files_in_directory(directory_path)\n",
    "len(files)"
   ]
  },
  {
   "cell_type": "code",
   "execution_count": 164,
   "metadata": {},
   "outputs": [],
   "source": [
    "def get_case_id_from_filename(file):\n",
    "    index = file.find(\"TCGA\")\n",
    "    return file[index:index+12]"
   ]
  },
  {
   "cell_type": "code",
   "execution_count": 165,
   "metadata": {},
   "outputs": [],
   "source": [
    "def extract_protein_expression(file):\n",
    "    df = pd.read_csv(file, sep='\\t')\n",
    "    subset_df = df[['protein_expression', 'AGID']]\n",
    "    transposed_df = subset_df.set_index('AGID').T\n",
    "    transposed_df = transposed_df.reset_index(drop=True)\n",
    "    transposed_df.insert(0, 'case_submitter_id', [get_case_id_from_filename(file)])\n",
    "    return transposed_df"
   ]
  },
  {
   "cell_type": "code",
   "execution_count": 166,
   "metadata": {},
   "outputs": [],
   "source": [
    "def merge_cases(files,extractor):\n",
    "    merged = extractor(files[0])\n",
    "    for file in files[1:]:\n",
    "        to_be_merge = extractor(file)\n",
    "        merged = pd.concat([to_be_merge, merged], axis=0, ignore_index=True)\n",
    "    return merged\n",
    "    "
   ]
  },
  {
   "cell_type": "code",
   "execution_count": 167,
   "metadata": {},
   "outputs": [],
   "source": [
    "# merged_rppa = merge_cases(files,extract_protein_expression)\n",
    "# merged_rppa.to_csv(\"full_rppa_raw.csv\",index=False)\n"
   ]
  },
  {
   "cell_type": "code",
   "execution_count": 168,
   "metadata": {},
   "outputs": [
    {
     "data": {
      "text/plain": [
       "(7906, 488)"
      ]
     },
     "execution_count": 168,
     "metadata": {},
     "output_type": "execute_result"
    }
   ],
   "source": [
    "merged_rppa = pd.read_csv('full_rppa_raw.csv')\n",
    "merged_rppa.shape"
   ]
  },
  {
   "cell_type": "code",
   "execution_count": 169,
   "metadata": {},
   "outputs": [],
   "source": [
    "def calculate_column_statistics(df):\n",
    "    results = pd.DataFrame(index=df.columns, columns=['Mean', 'Variance', 'NumUniqueValues', 'NumNaNs'])\n",
    "    for column in df.columns:\n",
    "        if column not in [\"case_submitter_id\"]:\n",
    "            results.at[column, 'Mean'] = df[column].mean()\n",
    "            results.at[column, 'Variance'] = df[column].var()\n",
    "            results.at[column, 'NumUniqueValues'] = df[column].nunique()\n",
    "            results.at[column, 'NumNaNs'] = df[column].isna().sum()\n",
    "    return results"
   ]
  },
  {
   "cell_type": "code",
   "execution_count": 170,
   "metadata": {},
   "outputs": [
    {
     "data": {
      "text/plain": [
       "NumNaNs\n",
       "406     238\n",
       "0       216\n",
       "7252     12\n",
       "7146     10\n",
       "5335      4\n",
       "6964      1\n",
       "4691      1\n",
       "1000      1\n",
       "4237      1\n",
       "2417      1\n",
       "6110      1\n",
       "1415      1\n",
       "Name: count, dtype: int64"
      ]
     },
     "execution_count": 170,
     "metadata": {},
     "output_type": "execute_result"
    }
   ],
   "source": [
    "statistics= calculate_column_statistics(merged_rppa)\n",
    "statistics[\"NumNaNs\"].value_counts()"
   ]
  },
  {
   "cell_type": "code",
   "execution_count": 171,
   "metadata": {},
   "outputs": [
    {
     "data": {
      "text/plain": [
       "1581.2"
      ]
     },
     "execution_count": 171,
     "metadata": {},
     "output_type": "execute_result"
    }
   ],
   "source": [
    "7906*0.2"
   ]
  },
  {
   "cell_type": "markdown",
   "metadata": {},
   "source": [
    "among all 488 proteins, for 20% Missingness, 7906*0.2 = 1581.2, we drop 12 + 10 + 4 + 1 + 1 + 1 + 1 + 1 =31 proteins since too many missing. For other 238 + 1(1000) + 1(1415) preotins consider inputation."
   ]
  },
  {
   "cell_type": "markdown",
   "metadata": {},
   "source": [
    "Drop"
   ]
  },
  {
   "cell_type": "code",
   "execution_count": 172,
   "metadata": {},
   "outputs": [],
   "source": [
    "def extract_rows_by_nan(df, nan_threshold=1581):\n",
    "    columns = [column for column in df.columns if df[column].isna().sum() >= nan_threshold]\n",
    "    return columns"
   ]
  },
  {
   "cell_type": "code",
   "execution_count": 173,
   "metadata": {},
   "outputs": [
    {
     "data": {
      "text/plain": [
       "(7906, 457)"
      ]
     },
     "execution_count": 173,
     "metadata": {},
     "output_type": "execute_result"
    }
   ],
   "source": [
    "empmpty_columns = extract_rows_by_nan(merged_rppa,1581)\n",
    "merged_rppa = merged_rppa.drop(columns=empmpty_columns)\n",
    "merged_rppa.shape"
   ]
  },
  {
   "cell_type": "markdown",
   "metadata": {},
   "source": [
    "Inputation"
   ]
  },
  {
   "cell_type": "code",
   "execution_count": 174,
   "metadata": {},
   "outputs": [],
   "source": [
    "path = \"data/clinical.cart.2024-06-25/clinical.tsv\"\n",
    "df = pd.read_csv(path,sep='\\t')"
   ]
  },
  {
   "cell_type": "code",
   "execution_count": 175,
   "metadata": {},
   "outputs": [],
   "source": [
    "df['days_to_death'] = pd.to_numeric(df['days_to_death'], errors='coerce')\n",
    "df['days_to_last_follow_up'] = pd.to_numeric(df['days_to_last_follow_up'], errors='coerce')"
   ]
  },
  {
   "cell_type": "code",
   "execution_count": 176,
   "metadata": {},
   "outputs": [],
   "source": [
    "colums = [\"ajcc_pathologic_stage\",\"vital_status\",\"days_to_death\",\"days_to_last_follow_up\",\"case_submitter_id\",\"primary_diagnosis\"]\n",
    "deduplicate = df[df.index %2 !=0].sort_values(by='case_submitter_id')"
   ]
  },
  {
   "cell_type": "code",
   "execution_count": 177,
   "metadata": {},
   "outputs": [
    {
     "data": {
      "text/plain": [
       "array(['Stage IV', 'Stage I', \"'--\", 'Stage III', 'Stage IIB', 'Stage IA',\n",
       "       'Stage II', 'Stage IIA', 'Stage IIIA', 'Stage IB', 'Stage IIIB',\n",
       "       'Stage IVA', 'Stage 0', 'Stage IIIC', 'Stage IIC', 'Stage X',\n",
       "       'Stage IVB', 'Stage IVC', 'Stage IS', 'Not Reported'], dtype=object)"
      ]
     },
     "execution_count": 177,
     "metadata": {},
     "output_type": "execute_result"
    }
   ],
   "source": [
    "merged_rppa = pd.merge(merged_rppa, deduplicate[colums], on='case_submitter_id', how='inner')\n",
    "merged_rppa[\"ajcc_pathologic_stage\"].unique()"
   ]
  },
  {
   "cell_type": "code",
   "execution_count": 178,
   "metadata": {},
   "outputs": [],
   "source": [
    "def encode_stage_column(df, column_name):\n",
    "    # Define mapping dictionary\n",
    "    stage_mapping = {\n",
    "        \"Stage I\": 0,\n",
    "        \"Stage IA\": 1,\n",
    "        \"Stage IB\": 2,\n",
    "        \"Stage IS\": 3,\n",
    "        \"Stage II\": 4,\n",
    "        \"Stage IIA\": 5,\n",
    "        \"Stage IIB\": 6,\n",
    "        \"Stage IIC\": 7,\n",
    "        \"Stage III\": 8,\n",
    "        \"Stage IIIA\": 9,\n",
    "        \"Stage IIIB\": 10,\n",
    "        \"Stage IIIC\": 11,\n",
    "        \"Stage IV\": 12,\n",
    "        \"Stage IVA\": 13,\n",
    "        \"Stage IVB\": 14,\n",
    "        \"Stage IVC\": 15,\n",
    "        \"Stage X\": 16,\n",
    "        \"Stage 0\":17,\n",
    "        \"'--\": -1,\n",
    "        \"Not Reported\": -1\n",
    "        \n",
    "            }\n",
    "    \n",
    "    # Apply mapping to the column\n",
    "    df[column_name] = df[column_name].map(stage_mapping)\n",
    "    \n",
    "    return df"
   ]
  },
  {
   "cell_type": "code",
   "execution_count": 179,
   "metadata": {},
   "outputs": [],
   "source": [
    "merged_rppa_before_inputation = encode_stage_column(merged_rppa,\"ajcc_pathologic_stage\")"
   ]
  },
  {
   "cell_type": "code",
   "execution_count": 181,
   "metadata": {},
   "outputs": [],
   "source": [
    "proteins_only_cols = merged_rppa_before_inputation.columns.drop([\"case_submitter_id\", 'ajcc_pathologic_stage', 'vital_status', 'days_to_death',\n",
    "       'days_to_last_follow_up', 'primary_diagnosis'])"
   ]
  },
  {
   "cell_type": "code",
   "execution_count": 182,
   "metadata": {},
   "outputs": [
    {
     "data": {
      "text/plain": [
       "NumNaNs\n",
       "405     238\n",
       "0       216\n",
       "990       1\n",
       "1414      1\n",
       "Name: count, dtype: int64"
      ]
     },
     "execution_count": 182,
     "metadata": {},
     "output_type": "execute_result"
    }
   ],
   "source": [
    "statistics= calculate_column_statistics(merged_rppa_before_inputation[proteins_only_cols])\n",
    "statistics[\"NumNaNs\"].value_counts()"
   ]
  },
  {
   "cell_type": "code",
   "execution_count": 183,
   "metadata": {},
   "outputs": [
    {
     "data": {
      "text/plain": [
       "(7895, 462)"
      ]
     },
     "execution_count": 183,
     "metadata": {},
     "output_type": "execute_result"
    }
   ],
   "source": [
    "merged_rppa_before_inputation.shape"
   ]
  },
  {
   "cell_type": "markdown",
   "metadata": {},
   "source": [
    "7906-7895 = 11 cases are dropped while merging since lack of clinical information"
   ]
  },
  {
   "cell_type": "markdown",
   "metadata": {},
   "source": [
    "among proteins that need to be inputated, drop cases if pathologic_stage not reported"
   ]
  },
  {
   "cell_type": "code",
   "execution_count": 184,
   "metadata": {},
   "outputs": [],
   "source": [
    "def extract_columns_by_nan_num(df, nan_threshold):\n",
    "    columns = [column for column in df.columns if df[column].isna().sum() == nan_threshold]\n",
    "    return columns"
   ]
  },
  {
   "cell_type": "code",
   "execution_count": 191,
   "metadata": {},
   "outputs": [],
   "source": [
    "protein_0f_1414_missing = extract_columns_by_nan_num(merged_rppa_before_inputation,1414)\n",
    "protein_0f_990_missing = extract_columns_by_nan_num(merged_rppa_before_inputation,990)\n",
    "protein_0f_405_missing = extract_columns_by_nan_num(merged_rppa_before_inputation,405)\n"
   ]
  },
  {
   "cell_type": "code",
   "execution_count": 195,
   "metadata": {},
   "outputs": [],
   "source": [
    "def drop_rows(df, columns_to_check):\n",
    "    all_nan = df[columns_to_check].isnull().all(axis=1)\n",
    "    stage_minus_one = df[\"ajcc_pathologic_stage\"] == -1\n",
    "    to_drop = all_nan & stage_minus_one\n",
    "    df = df[~to_drop]\n",
    "    return df\n"
   ]
  },
  {
   "cell_type": "code",
   "execution_count": 196,
   "metadata": {},
   "outputs": [],
   "source": [
    "merged_df_no_inputation = drop_rows(merged_rppa_before_inputation,protein_0f_1414_missing)\n",
    "merged_df_no_inputation = drop_rows(merged_df_no_inputation,protein_0f_990_missing)\n",
    "merged_df_no_inputation = drop_rows(merged_df_no_inputation,protein_0f_405_missing)"
   ]
  },
  {
   "cell_type": "code",
   "execution_count": 197,
   "metadata": {},
   "outputs": [
    {
     "data": {
      "text/plain": [
       "(7229, 462)"
      ]
     },
     "execution_count": 197,
     "metadata": {},
     "output_type": "execute_result"
    }
   ],
   "source": [
    "merged_df_no_inputation.shape"
   ]
  },
  {
   "cell_type": "markdown",
   "metadata": {},
   "source": [
    "7895 - 7229 = 666 are dropped , good, most proteins that need inputation have ajcc_pathologic_stage avaliable"
   ]
  },
  {
   "cell_type": "markdown",
   "metadata": {},
   "source": [
    "Now we inpute AGID00385, the protien that missed in 1414 cases"
   ]
  },
  {
   "cell_type": "code",
   "execution_count": 199,
   "metadata": {},
   "outputs": [
    {
     "data": {
      "text/plain": [
       "943"
      ]
     },
     "execution_count": 199,
     "metadata": {},
     "output_type": "execute_result"
    }
   ],
   "source": [
    "merged_df_no_inputation[\"AGID00385\"].isna().sum()"
   ]
  },
  {
   "cell_type": "markdown",
   "metadata": {},
   "source": [
    "After drop, it left us 943 cases to inpute"
   ]
  },
  {
   "cell_type": "code",
   "execution_count": 200,
   "metadata": {},
   "outputs": [],
   "source": [
    "def impute_missing_values(df, group_cols, target_col):\n",
    "\n",
    "    # Calculate median for each group\n",
    "    median_values = df.groupby(group_cols)[target_col].median().reset_index()\n",
    "\n",
    "    # Create a dictionary for easy lookup\n",
    "    median_dict = median_values.set_index(group_cols)[target_col].to_dict()\n",
    "\n",
    "    # Define a function to fill missing values using the median_dict\n",
    "    def fill_missing(row):\n",
    "        if pd.isna(row[target_col]):\n",
    "            return median_dict.get(tuple(row[col] for col in group_cols), row[target_col])\n",
    "        else:\n",
    "            return row[target_col]\n",
    "\n",
    "    # Apply the function to fill missing values\n",
    "    df[target_col] = df.apply(fill_missing, axis=1)\n",
    "    \n",
    "    return df"
   ]
  },
  {
   "cell_type": "code",
   "execution_count": 201,
   "metadata": {},
   "outputs": [],
   "source": [
    "merged_df_no_inputation_test = impute_missing_values(merged_df_no_inputation,[\"primary_diagnosis\",\"ajcc_pathologic_stage\"],protein_0f_1414_missing[0])"
   ]
  },
  {
   "cell_type": "code",
   "execution_count": 202,
   "metadata": {},
   "outputs": [
    {
     "data": {
      "text/plain": [
       "(540, 462)"
      ]
     },
     "execution_count": 202,
     "metadata": {},
     "output_type": "execute_result"
    }
   ],
   "source": [
    "merged_df_no_inputation_test[[\"AGID00385\",\"primary_diagnosis\",\"ajcc_pathologic_stage\"]]\n",
    "mask = (merged_df_no_inputation_test[protein_0f_1414_missing[0]].isna())\n",
    "merged_df_no_inputation_test[mask].shape"
   ]
  },
  {
   "cell_type": "markdown",
   "metadata": {},
   "source": [
    "oh no, these 540 cases come from groups that this protein is all missed and cannot determine the average, considering the ratio 540/7895 and 1/462, we may have to drop this protein."
   ]
  },
  {
   "cell_type": "code",
   "execution_count": 133,
   "metadata": {},
   "outputs": [],
   "source": [
    "merged_df_no_inputation = merged_df_no_inputation.drop(protein_0f_1414_missing,axis=1)"
   ]
  },
  {
   "cell_type": "code",
   "execution_count": 109,
   "metadata": {},
   "outputs": [
    {
     "data": {
      "text/plain": [
       "['AGID00445']"
      ]
     },
     "execution_count": 109,
     "metadata": {},
     "output_type": "execute_result"
    }
   ],
   "source": [
    "protein_0f_990_missing"
   ]
  },
  {
   "cell_type": "markdown",
   "metadata": {},
   "source": [
    "Now we move to AGID00445, which is missing in 990 cases"
   ]
  },
  {
   "cell_type": "code",
   "execution_count": 203,
   "metadata": {},
   "outputs": [
    {
     "data": {
      "text/plain": [
       "794"
      ]
     },
     "execution_count": 203,
     "metadata": {},
     "output_type": "execute_result"
    }
   ],
   "source": [
    "merged_df_no_inputation[\"AGID00445\"].isna().sum()"
   ]
  },
  {
   "cell_type": "code",
   "execution_count": 204,
   "metadata": {},
   "outputs": [],
   "source": [
    "merged_df_no_inputation_test = impute_missing_values(merged_df_no_inputation,[\"primary_diagnosis\",\"ajcc_pathologic_stage\"],\"AGID00445\")"
   ]
  },
  {
   "cell_type": "code",
   "execution_count": 205,
   "metadata": {},
   "outputs": [
    {
     "data": {
      "text/plain": [
       "(184, 3)"
      ]
     },
     "execution_count": 205,
     "metadata": {},
     "output_type": "execute_result"
    }
   ],
   "source": [
    "merged_df_no_inputation[[\"AGID00445\",\"primary_diagnosis\",\"ajcc_pathologic_stage\"]]\n",
    "mask = (merged_df_no_inputation[\"AGID00445\"].isna())\n",
    "merged_df_no_inputation[mask][[\"AGID00445\",\"primary_diagnosis\",\"ajcc_pathologic_stage\"]].shape"
   ]
  },
  {
   "cell_type": "markdown",
   "metadata": {},
   "source": [
    "oh no, still left use 184 cases"
   ]
  },
  {
   "cell_type": "code",
   "execution_count": null,
   "metadata": {},
   "outputs": [],
   "source": []
  }
 ],
 "metadata": {
  "kernelspec": {
   "display_name": "HSAE",
   "language": "python",
   "name": "python3"
  },
  "language_info": {
   "codemirror_mode": {
    "name": "ipython",
    "version": 3
   },
   "file_extension": ".py",
   "mimetype": "text/x-python",
   "name": "python",
   "nbconvert_exporter": "python",
   "pygments_lexer": "ipython3",
   "version": "3.9.19"
  }
 },
 "nbformat": 4,
 "nbformat_minor": 2
}
